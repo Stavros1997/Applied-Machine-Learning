{
 "cells": [
  {
   "cell_type": "code",
   "execution_count": 5,
   "metadata": {},
   "outputs": [],
   "source": [
    "import tensorflow as tf\n",
    "\n",
    "from tensorflow.keras.models import Sequential\n",
    "from tensorflow.keras.layers import Dense, Conv2D, Flatten, Dropout, MaxPooling2D\n",
    "from tensorflow.keras.preprocessing.image import ImageDataGenerator\n",
    "\n",
    "import os\n",
    "import numpy as np\n",
    "import matplotlib.pyplot as plt\n",
    "\n",
    "import pandas as pd"
   ]
  },
  {
   "cell_type": "code",
   "execution_count": 6,
   "metadata": {},
   "outputs": [],
   "source": [
    "import pathlib\n",
    "from pathlib import Path\n",
    "training_data_path = Path(r\"C:\\Users\\Stavros\\.keras\\datasets\\training-set\")\n",
    "\n",
    "validation_data_path = Path(r\"C:\\Users\\Stavros\\.keras\\datasets\\validation-set\")\n",
    "test_data_paths = Path(r\"C:\\Users\\Stavros\\.keras\\datasets\\test-set\")\n",
    "\n",
    "\n",
    "num_tr = len(os.listdir(training_data_path))\n",
    "num_val = len(os.listdir(validation_data_path))\n",
    "\n",
    "num_test = len(os.listdir(test_data_paths))"
   ]
  },
  {
   "cell_type": "code",
   "execution_count": 15,
   "metadata": {},
   "outputs": [
    {
     "data": {
      "text/html": [
       "<div>\n",
       "<style scoped>\n",
       "    .dataframe tbody tr th:only-of-type {\n",
       "        vertical-align: middle;\n",
       "    }\n",
       "\n",
       "    .dataframe tbody tr th {\n",
       "        vertical-align: top;\n",
       "    }\n",
       "\n",
       "    .dataframe thead th {\n",
       "        text-align: right;\n",
       "    }\n",
       "</style>\n",
       "<table border=\"1\" class=\"dataframe\">\n",
       "  <thead>\n",
       "    <tr style=\"text-align: right;\">\n",
       "      <th></th>\n",
       "      <th>image</th>\n",
       "      <th>tag1</th>\n",
       "      <th>tag2</th>\n",
       "      <th>tag3</th>\n",
       "      <th>Unnamed: 4</th>\n",
       "      <th>Unnamed: 5</th>\n",
       "      <th>Unnamed: 6</th>\n",
       "      <th>Unnamed: 7</th>\n",
       "      <th>Unnamed: 8</th>\n",
       "      <th>Unnamed: 9</th>\n",
       "      <th>...</th>\n",
       "      <th>Unnamed: 62</th>\n",
       "      <th>Unnamed: 63</th>\n",
       "      <th>Unnamed: 64</th>\n",
       "      <th>Unnamed: 65</th>\n",
       "      <th>Unnamed: 66</th>\n",
       "      <th>Unnamed: 67</th>\n",
       "      <th>Unnamed: 68</th>\n",
       "      <th>Unnamed: 69</th>\n",
       "      <th>Unnamed: 70</th>\n",
       "      <th>Unnamed: 71</th>\n",
       "    </tr>\n",
       "  </thead>\n",
       "  <tbody>\n",
       "    <tr>\n",
       "      <th>0</th>\n",
       "      <td>ROCO_CLEF_00000</td>\n",
       "      <td>C0027442</td>\n",
       "      <td>NaN</td>\n",
       "      <td>NaN</td>\n",
       "      <td>NaN</td>\n",
       "      <td>NaN</td>\n",
       "      <td>NaN</td>\n",
       "      <td>NaN</td>\n",
       "      <td>NaN</td>\n",
       "      <td>NaN</td>\n",
       "      <td>...</td>\n",
       "      <td>NaN</td>\n",
       "      <td>NaN</td>\n",
       "      <td>NaN</td>\n",
       "      <td>NaN</td>\n",
       "      <td>NaN</td>\n",
       "      <td>NaN</td>\n",
       "      <td>NaN</td>\n",
       "      <td>NaN</td>\n",
       "      <td>NaN</td>\n",
       "      <td>NaN</td>\n",
       "    </tr>\n",
       "    <tr>\n",
       "      <th>1</th>\n",
       "      <td>ROCO_CLEF_00001</td>\n",
       "      <td>C0741302</td>\n",
       "      <td>NaN</td>\n",
       "      <td>NaN</td>\n",
       "      <td>NaN</td>\n",
       "      <td>NaN</td>\n",
       "      <td>NaN</td>\n",
       "      <td>NaN</td>\n",
       "      <td>NaN</td>\n",
       "      <td>NaN</td>\n",
       "      <td>...</td>\n",
       "      <td>NaN</td>\n",
       "      <td>NaN</td>\n",
       "      <td>NaN</td>\n",
       "      <td>NaN</td>\n",
       "      <td>NaN</td>\n",
       "      <td>NaN</td>\n",
       "      <td>NaN</td>\n",
       "      <td>NaN</td>\n",
       "      <td>NaN</td>\n",
       "      <td>NaN</td>\n",
       "    </tr>\n",
       "    <tr>\n",
       "      <th>2</th>\n",
       "      <td>ROCO_CLEF_00003</td>\n",
       "      <td>C0040399</td>\n",
       "      <td>C2936859</td>\n",
       "      <td>C0796095</td>\n",
       "      <td>C0751438</td>\n",
       "      <td>C2936904</td>\n",
       "      <td>C0020889</td>\n",
       "      <td>C0796110</td>\n",
       "      <td>C0019939</td>\n",
       "      <td>C2826624</td>\n",
       "      <td>...</td>\n",
       "      <td>NaN</td>\n",
       "      <td>NaN</td>\n",
       "      <td>NaN</td>\n",
       "      <td>NaN</td>\n",
       "      <td>NaN</td>\n",
       "      <td>NaN</td>\n",
       "      <td>NaN</td>\n",
       "      <td>NaN</td>\n",
       "      <td>NaN</td>\n",
       "      <td>NaN</td>\n",
       "    </tr>\n",
       "  </tbody>\n",
       "</table>\n",
       "<p>3 rows × 72 columns</p>\n",
       "</div>"
      ],
      "text/plain": [
       "             image      tag1      tag2      tag3 Unnamed: 4 Unnamed: 5  \\\n",
       "0  ROCO_CLEF_00000  C0027442       NaN       NaN        NaN        NaN   \n",
       "1  ROCO_CLEF_00001  C0741302       NaN       NaN        NaN        NaN   \n",
       "2  ROCO_CLEF_00003  C0040399  C2936859  C0796095   C0751438   C2936904   \n",
       "\n",
       "  Unnamed: 6 Unnamed: 7 Unnamed: 8 Unnamed: 9  ... Unnamed: 62 Unnamed: 63  \\\n",
       "0        NaN        NaN        NaN        NaN  ...         NaN         NaN   \n",
       "1        NaN        NaN        NaN        NaN  ...         NaN         NaN   \n",
       "2   C0020889   C0796110   C0019939   C2826624  ...         NaN         NaN   \n",
       "\n",
       "  Unnamed: 64 Unnamed: 65 Unnamed: 66 Unnamed: 67 Unnamed: 68 Unnamed: 69  \\\n",
       "0         NaN         NaN         NaN         NaN         NaN         NaN   \n",
       "1         NaN         NaN         NaN         NaN         NaN         NaN   \n",
       "2         NaN         NaN         NaN         NaN         NaN         NaN   \n",
       "\n",
       "  Unnamed: 70 Unnamed: 71  \n",
       "0         NaN         NaN  \n",
       "1         NaN         NaN  \n",
       "2         NaN         NaN  \n",
       "\n",
       "[3 rows x 72 columns]"
      ]
     },
     "execution_count": 15,
     "metadata": {},
     "output_type": "execute_result"
    }
   ],
   "source": [
    "import pandas as pd\n",
    "df = pd.read_excel('Desktop/train_concepts.xlsx')\n",
    "df.head(3)\n",
    "#i have separate the first tag from the image id and i have sort the image id column"
   ]
  },
  {
   "cell_type": "code",
   "execution_count": 93,
   "metadata": {},
   "outputs": [],
   "source": []
  },
  {
   "cell_type": "code",
   "execution_count": 8,
   "metadata": {},
   "outputs": [
    {
     "data": {
      "text/plain": [
       "(5528, 3)"
      ]
     },
     "execution_count": 8,
     "metadata": {},
     "output_type": "execute_result"
    }
   ],
   "source": [
    "dfstr = pd.read_csv('Desktop/string_concepts.csv',header=None)\n",
    "dfstr['tags'], dfstr['disease'] = dfstr[0].str.split('\\t', 1).str\n",
    "dfstr.shape"
   ]
  },
  {
   "cell_type": "code",
   "execution_count": 45,
   "metadata": {},
   "outputs": [],
   "source": [
    "classes=dfstr['tags'] #taking all the tags"
   ]
  },
  {
   "cell_type": "code",
   "execution_count": 93,
   "metadata": {},
   "outputs": [
    {
     "data": {
      "text/plain": [
       "5528"
      ]
     },
     "execution_count": 93,
     "metadata": {},
     "output_type": "execute_result"
    }
   ],
   "source": [
    "len(classes)"
   ]
  },
  {
   "cell_type": "code",
   "execution_count": 28,
   "metadata": {},
   "outputs": [],
   "source": [
    "\n",
    "dfl=df.to_csv(header=None, index=False).strip('\\n').split('\\n') #train tags"
   ]
  },
  {
   "cell_type": "code",
   "execution_count": 97,
   "metadata": {},
   "outputs": [
    {
     "data": {
      "text/plain": [
       "56629"
      ]
     },
     "execution_count": 97,
     "metadata": {},
     "output_type": "execute_result"
    }
   ],
   "source": [
    "len(dfl)"
   ]
  },
  {
   "cell_type": "code",
   "execution_count": 29,
   "metadata": {},
   "outputs": [],
   "source": [
    "dfl = pd.DataFrame(np.array(dfl).reshape(56629,1))"
   ]
  },
  {
   "cell_type": "code",
   "execution_count": 30,
   "metadata": {},
   "outputs": [
    {
     "data": {
      "text/html": [
       "<div>\n",
       "<style scoped>\n",
       "    .dataframe tbody tr th:only-of-type {\n",
       "        vertical-align: middle;\n",
       "    }\n",
       "\n",
       "    .dataframe tbody tr th {\n",
       "        vertical-align: top;\n",
       "    }\n",
       "\n",
       "    .dataframe thead th {\n",
       "        text-align: right;\n",
       "    }\n",
       "</style>\n",
       "<table border=\"1\" class=\"dataframe\">\n",
       "  <thead>\n",
       "    <tr style=\"text-align: right;\">\n",
       "      <th></th>\n",
       "      <th>0</th>\n",
       "    </tr>\n",
       "  </thead>\n",
       "  <tbody>\n",
       "    <tr>\n",
       "      <th>0</th>\n",
       "      <td>C0027442,,,,,,,,,,,,,,,,,,,,,,,,,,,,,,,,,,,,,,...</td>\n",
       "    </tr>\n",
       "    <tr>\n",
       "      <th>1</th>\n",
       "      <td>C0741302,,,,,,,,,,,,,,,,,,,,,,,,,,,,,,,,,,,,,,...</td>\n",
       "    </tr>\n",
       "    <tr>\n",
       "      <th>2</th>\n",
       "      <td>C0040399,C2936859,C0796095,C0751438,C2936904,C...</td>\n",
       "    </tr>\n",
       "    <tr>\n",
       "      <th>3</th>\n",
       "      <td>C0687028,C1261287,C1550227,,,,,,,,,,,,,,,,,,,,...</td>\n",
       "    </tr>\n",
       "    <tr>\n",
       "      <th>4</th>\n",
       "      <td>C0772294,C0221198,C0441633,,,,,,,,,,,,,,,,,,,,...</td>\n",
       "    </tr>\n",
       "  </tbody>\n",
       "</table>\n",
       "</div>"
      ],
      "text/plain": [
       "                                                   0\n",
       "0  C0027442,,,,,,,,,,,,,,,,,,,,,,,,,,,,,,,,,,,,,,...\n",
       "1  C0741302,,,,,,,,,,,,,,,,,,,,,,,,,,,,,,,,,,,,,,...\n",
       "2  C0040399,C2936859,C0796095,C0751438,C2936904,C...\n",
       "3  C0687028,C1261287,C1550227,,,,,,,,,,,,,,,,,,,,...\n",
       "4  C0772294,C0221198,C0441633,,,,,,,,,,,,,,,,,,,,..."
      ]
     },
     "execution_count": 30,
     "metadata": {},
     "output_type": "execute_result"
    }
   ],
   "source": [
    "dfl.head(5)"
   ]
  },
  {
   "cell_type": "code",
   "execution_count": 17,
   "metadata": {},
   "outputs": [],
   "source": [
    "\n",
    "df2=df['image']"
   ]
  },
  {
   "cell_type": "code",
   "execution_count": 20,
   "metadata": {},
   "outputs": [],
   "source": [
    "df=df.drop(columns=['image'])\n"
   ]
  },
  {
   "cell_type": "code",
   "execution_count": 136,
   "metadata": {},
   "outputs": [
    {
     "data": {
      "text/html": [
       "<div>\n",
       "<style scoped>\n",
       "    .dataframe tbody tr th:only-of-type {\n",
       "        vertical-align: middle;\n",
       "    }\n",
       "\n",
       "    .dataframe tbody tr th {\n",
       "        vertical-align: top;\n",
       "    }\n",
       "\n",
       "    .dataframe thead th {\n",
       "        text-align: right;\n",
       "    }\n",
       "</style>\n",
       "<table border=\"1\" class=\"dataframe\">\n",
       "  <thead>\n",
       "    <tr style=\"text-align: right;\">\n",
       "      <th></th>\n",
       "      <th>0</th>\n",
       "    </tr>\n",
       "  </thead>\n",
       "  <tbody>\n",
       "    <tr>\n",
       "      <th>0</th>\n",
       "      <td>C02742,,,,,,,,,,,,,,,,,,,,,,,,,,,,,,,,,,,,,,,,...</td>\n",
       "    </tr>\n",
       "    <tr>\n",
       "      <th>1</th>\n",
       "      <td>C0741302,,,,,,,,,,,,,,,,,,,,,,,,,,,,,,,,,,,,,,...</td>\n",
       "    </tr>\n",
       "    <tr>\n",
       "      <th>2</th>\n",
       "      <td>C04039,C2936859,C0796095,C0751438,C2936904,C02...</td>\n",
       "    </tr>\n",
       "    <tr>\n",
       "      <th>3</th>\n",
       "      <td>C0687028,C1261287,C15027,,,,,,,,,,,,,,,,,,,,,,...</td>\n",
       "    </tr>\n",
       "    <tr>\n",
       "      <th>4</th>\n",
       "      <td>C07294,C02198,C04163,,,,,,,,,,,,,,,,,,,,,,,,,,...</td>\n",
       "    </tr>\n",
       "  </tbody>\n",
       "</table>\n",
       "</div>"
      ],
      "text/plain": [
       "                                                   0\n",
       "0  C02742,,,,,,,,,,,,,,,,,,,,,,,,,,,,,,,,,,,,,,,,...\n",
       "1  C0741302,,,,,,,,,,,,,,,,,,,,,,,,,,,,,,,,,,,,,,...\n",
       "2  C04039,C2936859,C0796095,C0751438,C2936904,C02...\n",
       "3  C0687028,C1261287,C15027,,,,,,,,,,,,,,,,,,,,,,...\n",
       "4  C07294,C02198,C04163,,,,,,,,,,,,,,,,,,,,,,,,,,..."
      ]
     },
     "execution_count": 136,
     "metadata": {},
     "output_type": "execute_result"
    }
   ],
   "source": [
    "dfl.head(5)"
   ]
  },
  {
   "cell_type": "code",
   "execution_count": 31,
   "metadata": {},
   "outputs": [],
   "source": [
    "min_threshold_rep = 1\n",
    "dfl[0] = dfl[0].str.replace(r'(\\w)\\1{%d,}'%(min_threshold_rep-1), r'\\1')"
   ]
  },
  {
   "cell_type": "code",
   "execution_count": 99,
   "metadata": {},
   "outputs": [
    {
     "data": {
      "text/plain": [
       "(56629, 1)"
      ]
     },
     "execution_count": 99,
     "metadata": {},
     "output_type": "execute_result"
    }
   ],
   "source": [
    "df2.shape"
   ]
  },
  {
   "cell_type": "code",
   "execution_count": 33,
   "metadata": {},
   "outputs": [],
   "source": [
    "result = pd.concat([df2, dfl], axis=1, sort=False) #merging the image df and the tags df"
   ]
  },
  {
   "cell_type": "code",
   "execution_count": 34,
   "metadata": {},
   "outputs": [
    {
     "data": {
      "text/html": [
       "<div>\n",
       "<style scoped>\n",
       "    .dataframe tbody tr th:only-of-type {\n",
       "        vertical-align: middle;\n",
       "    }\n",
       "\n",
       "    .dataframe tbody tr th {\n",
       "        vertical-align: top;\n",
       "    }\n",
       "\n",
       "    .dataframe thead th {\n",
       "        text-align: right;\n",
       "    }\n",
       "</style>\n",
       "<table border=\"1\" class=\"dataframe\">\n",
       "  <thead>\n",
       "    <tr style=\"text-align: right;\">\n",
       "      <th></th>\n",
       "      <th>image</th>\n",
       "      <th>0</th>\n",
       "    </tr>\n",
       "  </thead>\n",
       "  <tbody>\n",
       "    <tr>\n",
       "      <th>0</th>\n",
       "      <td>ROCO_CLEF_00000</td>\n",
       "      <td>C02742,,,,,,,,,,,,,,,,,,,,,,,,,,,,,,,,,,,,,,,,...</td>\n",
       "    </tr>\n",
       "    <tr>\n",
       "      <th>1</th>\n",
       "      <td>ROCO_CLEF_00001</td>\n",
       "      <td>C0741302,,,,,,,,,,,,,,,,,,,,,,,,,,,,,,,,,,,,,,...</td>\n",
       "    </tr>\n",
       "    <tr>\n",
       "      <th>2</th>\n",
       "      <td>ROCO_CLEF_00003</td>\n",
       "      <td>C04039,C2936859,C0796095,C0751438,C2936904,C02...</td>\n",
       "    </tr>\n",
       "    <tr>\n",
       "      <th>3</th>\n",
       "      <td>ROCO_CLEF_00004</td>\n",
       "      <td>C0687028,C1261287,C15027,,,,,,,,,,,,,,,,,,,,,,...</td>\n",
       "    </tr>\n",
       "    <tr>\n",
       "      <th>4</th>\n",
       "      <td>ROCO_CLEF_00005</td>\n",
       "      <td>C07294,C02198,C04163,,,,,,,,,,,,,,,,,,,,,,,,,,...</td>\n",
       "    </tr>\n",
       "    <tr>\n",
       "      <th>5</th>\n",
       "      <td>ROCO_CLEF_00007</td>\n",
       "      <td>C0817096,C03248,C15467,,,,,,,,,,,,,,,,,,,,,,,,...</td>\n",
       "    </tr>\n",
       "    <tr>\n",
       "      <th>6</th>\n",
       "      <td>ROCO_CLEF_00008</td>\n",
       "      <td>C170931,C041618,C05949,C01581,C0751438,C048475...</td>\n",
       "    </tr>\n",
       "    <tr>\n",
       "      <th>7</th>\n",
       "      <td>ROCO_CLEF_00009</td>\n",
       "      <td>C015392,,,,,,,,,,,,,,,,,,,,,,,,,,,,,,,,,,,,,,,...</td>\n",
       "    </tr>\n",
       "    <tr>\n",
       "      <th>8</th>\n",
       "      <td>ROCO_CLEF_00011</td>\n",
       "      <td>C02939,C030797,,,,,,,,,,,,,,,,,,,,,,,,,,,,,,,,...</td>\n",
       "    </tr>\n",
       "    <tr>\n",
       "      <th>9</th>\n",
       "      <td>ROCO_CLEF_00013</td>\n",
       "      <td>C0598782,C0392148,C0240795,C056030,C15386,C070...</td>\n",
       "    </tr>\n",
       "    <tr>\n",
       "      <th>10</th>\n",
       "      <td>ROCO_CLEF_00014</td>\n",
       "      <td>C028429,,,,,,,,,,,,,,,,,,,,,,,,,,,,,,,,,,,,,,,...</td>\n",
       "    </tr>\n",
       "    <tr>\n",
       "      <th>11</th>\n",
       "      <td>ROCO_CLEF_00015</td>\n",
       "      <td>C1458156,C021853,C0726,C01573,C13930,,,,,,,,,,...</td>\n",
       "    </tr>\n",
       "    <tr>\n",
       "      <th>12</th>\n",
       "      <td>ROCO_CLEF_00017</td>\n",
       "      <td>C04329,C1962945,,,,,,,,,,,,,,,,,,,,,,,,,,,,,,,...</td>\n",
       "    </tr>\n",
       "    <tr>\n",
       "      <th>13</th>\n",
       "      <td>ROCO_CLEF_00019</td>\n",
       "      <td>C0812393,C0429068,C092095,C052087,C1561542,C19...</td>\n",
       "    </tr>\n",
       "    <tr>\n",
       "      <th>14</th>\n",
       "      <td>ROCO_CLEF_00021</td>\n",
       "      <td>C1561528,C02429,C02089,C0262950,,,,,,,,,,,,,,,...</td>\n",
       "    </tr>\n",
       "    <tr>\n",
       "      <th>15</th>\n",
       "      <td>ROCO_CLEF_00022</td>\n",
       "      <td>C0796494,C02198,C0726,,,,,,,,,,,,,,,,,,,,,,,,,...</td>\n",
       "    </tr>\n",
       "    <tr>\n",
       "      <th>16</th>\n",
       "      <td>ROCO_CLEF_00024</td>\n",
       "      <td>C1263136,C1524073,C0751438,C04329,C093598,C176...</td>\n",
       "    </tr>\n",
       "    <tr>\n",
       "      <th>17</th>\n",
       "      <td>ROCO_CLEF_00026</td>\n",
       "      <td>C02878,C170931,C034579,C021853,C041638,C060742...</td>\n",
       "    </tr>\n",
       "    <tr>\n",
       "      <th>18</th>\n",
       "      <td>ROCO_CLEF_00027</td>\n",
       "      <td>C2605207,,,,,,,,,,,,,,,,,,,,,,,,,,,,,,,,,,,,,,...</td>\n",
       "    </tr>\n",
       "    <tr>\n",
       "      <th>19</th>\n",
       "      <td>ROCO_CLEF_00028</td>\n",
       "      <td>C028505,,,,,,,,,,,,,,,,,,,,,,,,,,,,,,,,,,,,,,,...</td>\n",
       "    </tr>\n",
       "    <tr>\n",
       "      <th>20</th>\n",
       "      <td>ROCO_CLEF_00029</td>\n",
       "      <td>C02878,C0726,,,,,,,,,,,,,,,,,,,,,,,,,,,,,,,,,,...</td>\n",
       "    </tr>\n",
       "    <tr>\n",
       "      <th>21</th>\n",
       "      <td>ROCO_CLEF_00030</td>\n",
       "      <td>C1705425,C02198,C0175676,C07294,C151379,C04161...</td>\n",
       "    </tr>\n",
       "    <tr>\n",
       "      <th>22</th>\n",
       "      <td>ROCO_CLEF_00031</td>\n",
       "      <td>C02679,,,,,,,,,,,,,,,,,,,,,,,,,,,,,,,,,,,,,,,,...</td>\n",
       "    </tr>\n",
       "    <tr>\n",
       "      <th>23</th>\n",
       "      <td>ROCO_CLEF_00032</td>\n",
       "      <td>C03793,,,,,,,,,,,,,,,,,,,,,,,,,,,,,,,,,,,,,,,,...</td>\n",
       "    </tr>\n",
       "    <tr>\n",
       "      <th>24</th>\n",
       "      <td>ROCO_CLEF_00033</td>\n",
       "      <td>C152835,C04249,C15386,C042034,C031545,C0205917...</td>\n",
       "    </tr>\n",
       "    <tr>\n",
       "      <th>25</th>\n",
       "      <td>ROCO_CLEF_00034</td>\n",
       "      <td>C152853,C15386,C038351,,,,,,,,,,,,,,,,,,,,,,,,...</td>\n",
       "    </tr>\n",
       "    <tr>\n",
       "      <th>26</th>\n",
       "      <td>ROCO_CLEF_00035</td>\n",
       "      <td>C196313,,,,,,,,,,,,,,,,,,,,,,,,,,,,,,,,,,,,,,,...</td>\n",
       "    </tr>\n",
       "    <tr>\n",
       "      <th>27</th>\n",
       "      <td>ROCO_CLEF_00039</td>\n",
       "      <td>C1962945,C030797,C04329,C029463,C3540851,,,,,,...</td>\n",
       "    </tr>\n",
       "    <tr>\n",
       "      <th>28</th>\n",
       "      <td>ROCO_CLEF_00040</td>\n",
       "      <td>C07095,C02765,C0521428,C3540583,C02646,,,,,,,,...</td>\n",
       "    </tr>\n",
       "    <tr>\n",
       "      <th>29</th>\n",
       "      <td>ROCO_CLEF_00041</td>\n",
       "      <td>C013604,C034579,C028174,C06104,C235627,C01827,...</td>\n",
       "    </tr>\n",
       "    <tr>\n",
       "      <th>...</th>\n",
       "      <td>...</td>\n",
       "      <td>...</td>\n",
       "    </tr>\n",
       "    <tr>\n",
       "      <th>56599</th>\n",
       "      <td>ROCO_CLEF_70746</td>\n",
       "      <td>C0751437,C154827,C06282,C034579,C0521530,C0817...</td>\n",
       "    </tr>\n",
       "    <tr>\n",
       "      <th>56600</th>\n",
       "      <td>ROCO_CLEF_70747</td>\n",
       "      <td>C04249,C0687028,C0925,C02506,C05847,C15027,C03...</td>\n",
       "    </tr>\n",
       "    <tr>\n",
       "      <th>56601</th>\n",
       "      <td>ROCO_CLEF_70748</td>\n",
       "      <td>C04329,C040426,C092176,C154803,C037303,C029453...</td>\n",
       "    </tr>\n",
       "    <tr>\n",
       "      <th>56602</th>\n",
       "      <td>ROCO_CLEF_70749</td>\n",
       "      <td>C02943,C0262950,,,,,,,,,,,,,,,,,,,,,,,,,,,,,,,...</td>\n",
       "    </tr>\n",
       "    <tr>\n",
       "      <th>56603</th>\n",
       "      <td>ROCO_CLEF_70751</td>\n",
       "      <td>C1290905,,,,,,,,,,,,,,,,,,,,,,,,,,,,,,,,,,,,,,...</td>\n",
       "    </tr>\n",
       "    <tr>\n",
       "      <th>56604</th>\n",
       "      <td>ROCO_CLEF_70753</td>\n",
       "      <td>C032743,C040408,C040405,C040395,C023929,C02198...</td>\n",
       "    </tr>\n",
       "    <tr>\n",
       "      <th>56605</th>\n",
       "      <td>ROCO_CLEF_70754</td>\n",
       "      <td>C24258,C151379,C0374082,C03784,C070185,C0924,C...</td>\n",
       "    </tr>\n",
       "    <tr>\n",
       "      <th>56606</th>\n",
       "      <td>ROCO_CLEF_70756</td>\n",
       "      <td>C0205950,C028174,C06104,C2930936,,,,,,,,,,,,,,...</td>\n",
       "    </tr>\n",
       "    <tr>\n",
       "      <th>56607</th>\n",
       "      <td>ROCO_CLEF_70757</td>\n",
       "      <td>C034896,C02198,,,,,,,,,,,,,,,,,,,,,,,,,,,,,,,,...</td>\n",
       "    </tr>\n",
       "    <tr>\n",
       "      <th>56608</th>\n",
       "      <td>ROCO_CLEF_70759</td>\n",
       "      <td>C1962945,C028391,C04329,C01952,,,,,,,,,,,,,,,,...</td>\n",
       "    </tr>\n",
       "    <tr>\n",
       "      <th>56609</th>\n",
       "      <td>ROCO_CLEF_70760</td>\n",
       "      <td>C0394239,C041219,C235627,C01827,,,,,,,,,,,,,,,...</td>\n",
       "    </tr>\n",
       "    <tr>\n",
       "      <th>56610</th>\n",
       "      <td>ROCO_CLEF_70761</td>\n",
       "      <td>C013687,C034579,C05847,C024109,C040395,C04163,...</td>\n",
       "    </tr>\n",
       "    <tr>\n",
       "      <th>56611</th>\n",
       "      <td>ROCO_CLEF_70762</td>\n",
       "      <td>C027530,,,,,,,,,,,,,,,,,,,,,,,,,,,,,,,,,,,,,,,...</td>\n",
       "    </tr>\n",
       "    <tr>\n",
       "      <th>56612</th>\n",
       "      <td>ROCO_CLEF_70763</td>\n",
       "      <td>C032523,C05949,C320359,C039409,C031843,C04163,...</td>\n",
       "    </tr>\n",
       "    <tr>\n",
       "      <th>56613</th>\n",
       "      <td>ROCO_CLEF_70765</td>\n",
       "      <td>C013516,C0841296,C020378,C020379,C129304,C0182...</td>\n",
       "    </tr>\n",
       "    <tr>\n",
       "      <th>56614</th>\n",
       "      <td>ROCO_CLEF_70766</td>\n",
       "      <td>C069456,C03052,C05759,,,,,,,,,,,,,,,,,,,,,,,,,...</td>\n",
       "    </tr>\n",
       "    <tr>\n",
       "      <th>56615</th>\n",
       "      <td>ROCO_CLEF_70767</td>\n",
       "      <td>C020540,,,,,,,,,,,,,,,,,,,,,,,,,,,,,,,,,,,,,,,...</td>\n",
       "    </tr>\n",
       "    <tr>\n",
       "      <th>56616</th>\n",
       "      <td>ROCO_CLEF_70768</td>\n",
       "      <td>C02878,C152826,C028174,C425126,C02978,C154816,...</td>\n",
       "    </tr>\n",
       "    <tr>\n",
       "      <th>56617</th>\n",
       "      <td>ROCO_CLEF_70769</td>\n",
       "      <td>C152858,C170931,C0198632,C01906,C015252,C07876...</td>\n",
       "    </tr>\n",
       "    <tr>\n",
       "      <th>56618</th>\n",
       "      <td>ROCO_CLEF_70770</td>\n",
       "      <td>C031809,C0582103,C041618,,,,,,,,,,,,,,,,,,,,,,...</td>\n",
       "    </tr>\n",
       "    <tr>\n",
       "      <th>56619</th>\n",
       "      <td>ROCO_CLEF_70771</td>\n",
       "      <td>C150472,C023038,C02765,C027627,C02384,C024314,...</td>\n",
       "    </tr>\n",
       "    <tr>\n",
       "      <th>56620</th>\n",
       "      <td>ROCO_CLEF_70774</td>\n",
       "      <td>C1829459,,,,,,,,,,,,,,,,,,,,,,,,,,,,,,,,,,,,,,...</td>\n",
       "    </tr>\n",
       "    <tr>\n",
       "      <th>56621</th>\n",
       "      <td>ROCO_CLEF_70777</td>\n",
       "      <td>C042149,C041618,C1561540,,,,,,,,,,,,,,,,,,,,,,...</td>\n",
       "    </tr>\n",
       "    <tr>\n",
       "      <th>56622</th>\n",
       "      <td>ROCO_CLEF_70778</td>\n",
       "      <td>C02506,C0817096,C074971,,,,,,,,,,,,,,,,,,,,,,,...</td>\n",
       "    </tr>\n",
       "    <tr>\n",
       "      <th>56623</th>\n",
       "      <td>ROCO_CLEF_70779</td>\n",
       "      <td>C040395,C034579,C018792,C040405,,,,,,,,,,,,,,,...</td>\n",
       "    </tr>\n",
       "    <tr>\n",
       "      <th>56624</th>\n",
       "      <td>ROCO_CLEF_70780</td>\n",
       "      <td>C040395,C034579,C0702058,C060742,C039259,C0575...</td>\n",
       "    </tr>\n",
       "    <tr>\n",
       "      <th>56625</th>\n",
       "      <td>ROCO_CLEF_70782</td>\n",
       "      <td>C0237058,,,,,,,,,,,,,,,,,,,,,,,,,,,,,,,,,,,,,,...</td>\n",
       "    </tr>\n",
       "    <tr>\n",
       "      <th>56626</th>\n",
       "      <td>ROCO_CLEF_70783</td>\n",
       "      <td>C032326,C034329,C1963215,C024109,,,,,,,,,,,,,,...</td>\n",
       "    </tr>\n",
       "    <tr>\n",
       "      <th>56627</th>\n",
       "      <td>ROCO_CLEF_70784</td>\n",
       "      <td>C015385,C020164,C016536,C0262950,,,,,,,,,,,,,,...</td>\n",
       "    </tr>\n",
       "    <tr>\n",
       "      <th>56628</th>\n",
       "      <td>ROCO_CLEF_70785</td>\n",
       "      <td>C24258,C151379,C0374082,C070185,C03581,,,,,,,,...</td>\n",
       "    </tr>\n",
       "  </tbody>\n",
       "</table>\n",
       "<p>56629 rows × 2 columns</p>\n",
       "</div>"
      ],
      "text/plain": [
       "                 image                                                  0\n",
       "0      ROCO_CLEF_00000  C02742,,,,,,,,,,,,,,,,,,,,,,,,,,,,,,,,,,,,,,,,...\n",
       "1      ROCO_CLEF_00001  C0741302,,,,,,,,,,,,,,,,,,,,,,,,,,,,,,,,,,,,,,...\n",
       "2      ROCO_CLEF_00003  C04039,C2936859,C0796095,C0751438,C2936904,C02...\n",
       "3      ROCO_CLEF_00004  C0687028,C1261287,C15027,,,,,,,,,,,,,,,,,,,,,,...\n",
       "4      ROCO_CLEF_00005  C07294,C02198,C04163,,,,,,,,,,,,,,,,,,,,,,,,,,...\n",
       "5      ROCO_CLEF_00007  C0817096,C03248,C15467,,,,,,,,,,,,,,,,,,,,,,,,...\n",
       "6      ROCO_CLEF_00008  C170931,C041618,C05949,C01581,C0751438,C048475...\n",
       "7      ROCO_CLEF_00009  C015392,,,,,,,,,,,,,,,,,,,,,,,,,,,,,,,,,,,,,,,...\n",
       "8      ROCO_CLEF_00011  C02939,C030797,,,,,,,,,,,,,,,,,,,,,,,,,,,,,,,,...\n",
       "9      ROCO_CLEF_00013  C0598782,C0392148,C0240795,C056030,C15386,C070...\n",
       "10     ROCO_CLEF_00014  C028429,,,,,,,,,,,,,,,,,,,,,,,,,,,,,,,,,,,,,,,...\n",
       "11     ROCO_CLEF_00015  C1458156,C021853,C0726,C01573,C13930,,,,,,,,,,...\n",
       "12     ROCO_CLEF_00017  C04329,C1962945,,,,,,,,,,,,,,,,,,,,,,,,,,,,,,,...\n",
       "13     ROCO_CLEF_00019  C0812393,C0429068,C092095,C052087,C1561542,C19...\n",
       "14     ROCO_CLEF_00021  C1561528,C02429,C02089,C0262950,,,,,,,,,,,,,,,...\n",
       "15     ROCO_CLEF_00022  C0796494,C02198,C0726,,,,,,,,,,,,,,,,,,,,,,,,,...\n",
       "16     ROCO_CLEF_00024  C1263136,C1524073,C0751438,C04329,C093598,C176...\n",
       "17     ROCO_CLEF_00026  C02878,C170931,C034579,C021853,C041638,C060742...\n",
       "18     ROCO_CLEF_00027  C2605207,,,,,,,,,,,,,,,,,,,,,,,,,,,,,,,,,,,,,,...\n",
       "19     ROCO_CLEF_00028  C028505,,,,,,,,,,,,,,,,,,,,,,,,,,,,,,,,,,,,,,,...\n",
       "20     ROCO_CLEF_00029  C02878,C0726,,,,,,,,,,,,,,,,,,,,,,,,,,,,,,,,,,...\n",
       "21     ROCO_CLEF_00030  C1705425,C02198,C0175676,C07294,C151379,C04161...\n",
       "22     ROCO_CLEF_00031  C02679,,,,,,,,,,,,,,,,,,,,,,,,,,,,,,,,,,,,,,,,...\n",
       "23     ROCO_CLEF_00032  C03793,,,,,,,,,,,,,,,,,,,,,,,,,,,,,,,,,,,,,,,,...\n",
       "24     ROCO_CLEF_00033  C152835,C04249,C15386,C042034,C031545,C0205917...\n",
       "25     ROCO_CLEF_00034  C152853,C15386,C038351,,,,,,,,,,,,,,,,,,,,,,,,...\n",
       "26     ROCO_CLEF_00035  C196313,,,,,,,,,,,,,,,,,,,,,,,,,,,,,,,,,,,,,,,...\n",
       "27     ROCO_CLEF_00039  C1962945,C030797,C04329,C029463,C3540851,,,,,,...\n",
       "28     ROCO_CLEF_00040  C07095,C02765,C0521428,C3540583,C02646,,,,,,,,...\n",
       "29     ROCO_CLEF_00041  C013604,C034579,C028174,C06104,C235627,C01827,...\n",
       "...                ...                                                ...\n",
       "56599  ROCO_CLEF_70746  C0751437,C154827,C06282,C034579,C0521530,C0817...\n",
       "56600  ROCO_CLEF_70747  C04249,C0687028,C0925,C02506,C05847,C15027,C03...\n",
       "56601  ROCO_CLEF_70748  C04329,C040426,C092176,C154803,C037303,C029453...\n",
       "56602  ROCO_CLEF_70749  C02943,C0262950,,,,,,,,,,,,,,,,,,,,,,,,,,,,,,,...\n",
       "56603  ROCO_CLEF_70751  C1290905,,,,,,,,,,,,,,,,,,,,,,,,,,,,,,,,,,,,,,...\n",
       "56604  ROCO_CLEF_70753  C032743,C040408,C040405,C040395,C023929,C02198...\n",
       "56605  ROCO_CLEF_70754  C24258,C151379,C0374082,C03784,C070185,C0924,C...\n",
       "56606  ROCO_CLEF_70756  C0205950,C028174,C06104,C2930936,,,,,,,,,,,,,,...\n",
       "56607  ROCO_CLEF_70757  C034896,C02198,,,,,,,,,,,,,,,,,,,,,,,,,,,,,,,,...\n",
       "56608  ROCO_CLEF_70759  C1962945,C028391,C04329,C01952,,,,,,,,,,,,,,,,...\n",
       "56609  ROCO_CLEF_70760  C0394239,C041219,C235627,C01827,,,,,,,,,,,,,,,...\n",
       "56610  ROCO_CLEF_70761  C013687,C034579,C05847,C024109,C040395,C04163,...\n",
       "56611  ROCO_CLEF_70762  C027530,,,,,,,,,,,,,,,,,,,,,,,,,,,,,,,,,,,,,,,...\n",
       "56612  ROCO_CLEF_70763  C032523,C05949,C320359,C039409,C031843,C04163,...\n",
       "56613  ROCO_CLEF_70765  C013516,C0841296,C020378,C020379,C129304,C0182...\n",
       "56614  ROCO_CLEF_70766  C069456,C03052,C05759,,,,,,,,,,,,,,,,,,,,,,,,,...\n",
       "56615  ROCO_CLEF_70767  C020540,,,,,,,,,,,,,,,,,,,,,,,,,,,,,,,,,,,,,,,...\n",
       "56616  ROCO_CLEF_70768  C02878,C152826,C028174,C425126,C02978,C154816,...\n",
       "56617  ROCO_CLEF_70769  C152858,C170931,C0198632,C01906,C015252,C07876...\n",
       "56618  ROCO_CLEF_70770  C031809,C0582103,C041618,,,,,,,,,,,,,,,,,,,,,,...\n",
       "56619  ROCO_CLEF_70771  C150472,C023038,C02765,C027627,C02384,C024314,...\n",
       "56620  ROCO_CLEF_70774  C1829459,,,,,,,,,,,,,,,,,,,,,,,,,,,,,,,,,,,,,,...\n",
       "56621  ROCO_CLEF_70777  C042149,C041618,C1561540,,,,,,,,,,,,,,,,,,,,,,...\n",
       "56622  ROCO_CLEF_70778  C02506,C0817096,C074971,,,,,,,,,,,,,,,,,,,,,,,...\n",
       "56623  ROCO_CLEF_70779  C040395,C034579,C018792,C040405,,,,,,,,,,,,,,,...\n",
       "56624  ROCO_CLEF_70780  C040395,C034579,C0702058,C060742,C039259,C0575...\n",
       "56625  ROCO_CLEF_70782  C0237058,,,,,,,,,,,,,,,,,,,,,,,,,,,,,,,,,,,,,,...\n",
       "56626  ROCO_CLEF_70783  C032326,C034329,C1963215,C024109,,,,,,,,,,,,,,...\n",
       "56627  ROCO_CLEF_70784  C015385,C020164,C016536,C0262950,,,,,,,,,,,,,,...\n",
       "56628  ROCO_CLEF_70785  C24258,C151379,C0374082,C070185,C03581,,,,,,,,...\n",
       "\n",
       "[56629 rows x 2 columns]"
      ]
     },
     "execution_count": 34,
     "metadata": {},
     "output_type": "execute_result"
    }
   ],
   "source": [
    "result"
   ]
  },
  {
   "cell_type": "code",
   "execution_count": 38,
   "metadata": {},
   "outputs": [],
   "source": [
    "result['tags']=result['tags'].apply(lambda x:x.split(\",\"))"
   ]
  },
  {
   "cell_type": "code",
   "execution_count": 43,
   "metadata": {},
   "outputs": [
    {
     "data": {
      "text/html": [
       "<div>\n",
       "<style scoped>\n",
       "    .dataframe tbody tr th:only-of-type {\n",
       "        vertical-align: middle;\n",
       "    }\n",
       "\n",
       "    .dataframe tbody tr th {\n",
       "        vertical-align: top;\n",
       "    }\n",
       "\n",
       "    .dataframe thead th {\n",
       "        text-align: right;\n",
       "    }\n",
       "</style>\n",
       "<table border=\"1\" class=\"dataframe\">\n",
       "  <thead>\n",
       "    <tr style=\"text-align: right;\">\n",
       "      <th></th>\n",
       "      <th>image</th>\n",
       "      <th>tags</th>\n",
       "    </tr>\n",
       "  </thead>\n",
       "  <tbody>\n",
       "    <tr>\n",
       "      <th>0</th>\n",
       "      <td>ROCO_CLEF_00000</td>\n",
       "      <td>[C02742, , , , , , , , , , , , , , , , , , , ,...</td>\n",
       "    </tr>\n",
       "    <tr>\n",
       "      <th>1</th>\n",
       "      <td>ROCO_CLEF_00001</td>\n",
       "      <td>[C0741302, , , , , , , , , , , , , , , , , , ,...</td>\n",
       "    </tr>\n",
       "    <tr>\n",
       "      <th>2</th>\n",
       "      <td>ROCO_CLEF_00003</td>\n",
       "      <td>[C04039, C2936859, C0796095, C0751438, C293690...</td>\n",
       "    </tr>\n",
       "    <tr>\n",
       "      <th>3</th>\n",
       "      <td>ROCO_CLEF_00004</td>\n",
       "      <td>[C0687028, C1261287, C15027, , , , , , , , , ,...</td>\n",
       "    </tr>\n",
       "    <tr>\n",
       "      <th>4</th>\n",
       "      <td>ROCO_CLEF_00005</td>\n",
       "      <td>[C07294, C02198, C04163, , , , , , , , , , , ,...</td>\n",
       "    </tr>\n",
       "  </tbody>\n",
       "</table>\n",
       "</div>"
      ],
      "text/plain": [
       "             image                                               tags\n",
       "0  ROCO_CLEF_00000  [C02742, , , , , , , , , , , , , , , , , , , ,...\n",
       "1  ROCO_CLEF_00001  [C0741302, , , , , , , , , , , , , , , , , , ,...\n",
       "2  ROCO_CLEF_00003  [C04039, C2936859, C0796095, C0751438, C293690...\n",
       "3  ROCO_CLEF_00004  [C0687028, C1261287, C15027, , , , , , , , , ,...\n",
       "4  ROCO_CLEF_00005  [C07294, C02198, C04163, , , , , , , , , , , ,..."
      ]
     },
     "execution_count": 43,
     "metadata": {},
     "output_type": "execute_result"
    }
   ],
   "source": [
    "result.columns = ['image', 'tags']\n",
    "result.head(5)"
   ]
  },
  {
   "cell_type": "code",
   "execution_count": 71,
   "metadata": {},
   "outputs": [
    {
     "name": "stdout",
     "output_type": "stream",
     "text": [
      "Found 38386 validated image filenames belonging to 5528 classes.\n"
     ]
    }
   ],
   "source": [
    "datagen=ImageDataGenerator(rescale=1./255.)\n",
    "test_datagen=ImageDataGenerator(rescale=1./255.)\n",
    "train_generator=datagen.flow_from_dataframe(\n",
    "dataframe=result,\n",
    "directory=training_data_path,\n",
    "x_col=\"image\",\n",
    "y_col=\"tags\",\n",
    "batch_size=32,\n",
    "seed=42,\n",
    "shuffle=True,\n",
    "class_mode=\"categorical\",\n",
    "classes=classes,\n",
    "target_size=(32,32))"
   ]
  },
  {
   "cell_type": "code",
   "execution_count": 47,
   "metadata": {},
   "outputs": [],
   "source": [
    "classes=classes.tolist()"
   ]
  },
  {
   "cell_type": "code",
   "execution_count": 49,
   "metadata": {},
   "outputs": [],
   "source": [
    "def append_ext(fn):\n",
    "    return fn+\".jpg\"\n",
    "result[\"image\"]=result[\"image\"].apply(append_ext)\n"
   ]
  },
  {
   "cell_type": "code",
   "execution_count": 52,
   "metadata": {},
   "outputs": [
    {
     "data": {
      "text/html": [
       "<div>\n",
       "<style scoped>\n",
       "    .dataframe tbody tr th:only-of-type {\n",
       "        vertical-align: middle;\n",
       "    }\n",
       "\n",
       "    .dataframe tbody tr th {\n",
       "        vertical-align: top;\n",
       "    }\n",
       "\n",
       "    .dataframe thead th {\n",
       "        text-align: right;\n",
       "    }\n",
       "</style>\n",
       "<table border=\"1\" class=\"dataframe\">\n",
       "  <thead>\n",
       "    <tr style=\"text-align: right;\">\n",
       "      <th></th>\n",
       "      <th>image</th>\n",
       "      <th>tags</th>\n",
       "    </tr>\n",
       "  </thead>\n",
       "  <tbody>\n",
       "    <tr>\n",
       "      <th>0</th>\n",
       "      <td>ROCO_CLEF_64017</td>\n",
       "      <td>C0001074;C3203359;C0041618</td>\n",
       "    </tr>\n",
       "    <tr>\n",
       "      <th>1</th>\n",
       "      <td>ROCO_CLEF_39073</td>\n",
       "      <td>C0027530;C1610719;C0065967;C1704258;C0883242;C...</td>\n",
       "    </tr>\n",
       "    <tr>\n",
       "      <th>2</th>\n",
       "      <td>ROCO_CLEF_18028</td>\n",
       "      <td>C1265876;C1293134;C0029053;C0034579;C0025066;C...</td>\n",
       "    </tr>\n",
       "  </tbody>\n",
       "</table>\n",
       "</div>"
      ],
      "text/plain": [
       "             image                                               tags\n",
       "0  ROCO_CLEF_64017                         C0001074;C3203359;C0041618\n",
       "1  ROCO_CLEF_39073  C0027530;C1610719;C0065967;C1704258;C0883242;C...\n",
       "2  ROCO_CLEF_18028  C1265876;C1293134;C0029053;C0034579;C0025066;C..."
      ]
     },
     "execution_count": 52,
     "metadata": {},
     "output_type": "execute_result"
    }
   ],
   "source": [
    "import pandas as pd\n",
    "dfv = pd.read_csv('Desktop/val_concepts.csv')\n",
    "dfv.head(3)\n",
    "#i have separate the first tag from the image id and i have sort the image id column"
   ]
  },
  {
   "cell_type": "code",
   "execution_count": 53,
   "metadata": {},
   "outputs": [],
   "source": [
    "dfv[\"image\"]=dfv[\"image\"].apply(append_ext)"
   ]
  },
  {
   "cell_type": "code",
   "execution_count": 70,
   "metadata": {},
   "outputs": [
    {
     "name": "stdout",
     "output_type": "stream",
     "text": [
      "Found 14157 validated image filenames belonging to 5528 classes.\n"
     ]
    }
   ],
   "source": [
    "valid_generator=test_datagen.flow_from_dataframe(\n",
    "dataframe=dfv,\n",
    "directory=validation_data_path,\n",
    "x_col=\"image\",\n",
    "y_col=\"tags\",\n",
    "batch_size=32,\n",
    "seed=42,\n",
    "shuffle=True,\n",
    "class_mode=\"categorical\",\n",
    "classes=classes,\n",
    "target_size=(32,32))"
   ]
  },
  {
   "cell_type": "code",
   "execution_count": 56,
   "metadata": {},
   "outputs": [],
   "source": [
    "dfv['tags']=dfv['tags'].apply(lambda x:x.split(\";\"))"
   ]
  },
  {
   "cell_type": "code",
   "execution_count": 100,
   "metadata": {},
   "outputs": [
    {
     "data": {
      "text/plain": [
       "<keras_preprocessing.image.dataframe_iterator.DataFrameIterator at 0x1dcb0321860>"
      ]
     },
     "execution_count": 100,
     "metadata": {},
     "output_type": "execute_result"
    }
   ],
   "source": [
    "valid_generator"
   ]
  },
  {
   "cell_type": "code",
   "execution_count": 74,
   "metadata": {},
   "outputs": [],
   "source": [
    "#creating the model\n",
    "\n",
    "\n",
    "\n",
    "from keras.layers import Dense, Activation, Flatten, Dropout, BatchNormalization\n",
    "from keras.layers import Conv2D, MaxPooling2D\n",
    "from keras import regularizers, optimizers\n",
    "import pandas as pd\n",
    "import numpy as np\n",
    "from keras.models import Sequential\n",
    "\n",
    "model = Sequential()\n",
    "model.add(Conv2D(32, (3, 3), padding='same',\n",
    "                 input_shape=(32,32,3)))\n",
    "model.add(Activation('relu'))\n",
    "model.add(Conv2D(32, (3, 3)))\n",
    "model.add(Activation('relu'))\n",
    "model.add(MaxPooling2D(pool_size=(2, 2)))\n",
    "model.add(Dropout(0.25))\n",
    "model.add(Conv2D(64, (3, 3), padding='same'))\n",
    "model.add(Activation('relu'))\n",
    "model.add(Conv2D(64, (3, 3)))\n",
    "model.add(Activation('relu'))\n",
    "model.add(MaxPooling2D(pool_size=(2, 2)))\n",
    "model.add(Dropout(0.25))\n",
    "model.add(Flatten())\n",
    "model.add(Dense(512))\n",
    "model.add(Activation('relu'))\n",
    "model.add(Dropout(0.5))\n",
    "model.add(Dense(5528, activation='softmax'))\n",
    "model.compile(optimizers.rmsprop(lr=0.0001, decay=1e-6),loss=\"categorical_crossentropy\",metrics=[\"accuracy\"])"
   ]
  },
  {
   "cell_type": "code",
   "execution_count": 75,
   "metadata": {},
   "outputs": [],
   "source": [
    "STEP_SIZE_TRAIN=train_generator.n//train_generator.batch_size\n",
    "STEP_SIZE_VALID=valid_generator.n//valid_generator.batch_size"
   ]
  },
  {
   "cell_type": "code",
   "execution_count": 76,
   "metadata": {},
   "outputs": [
    {
     "name": "stdout",
     "output_type": "stream",
     "text": [
      "Epoch 1/10\n",
      "1199/1199 [==============================] - 548s 457ms/step - loss: 12.7035 - accuracy: 0.0711 - val_loss: 67.2996 - val_accuracy: 0.0059\n",
      "Epoch 2/10\n",
      "1199/1199 [==============================] - 334s 279ms/step - loss: 12.5099 - accuracy: 0.0871 - val_loss: 72.4014 - val_accuracy: 0.0055\n",
      "Epoch 3/10\n",
      "1199/1199 [==============================] - 327s 272ms/step - loss: 12.9270 - accuracy: 0.0848 - val_loss: 67.0451 - val_accuracy: 0.0049\n",
      "Epoch 4/10\n",
      "1199/1199 [==============================] - 329s 274ms/step - loss: 13.6088 - accuracy: 0.0822 - val_loss: 83.4345 - val_accuracy: 0.0041\n",
      "Epoch 5/10\n",
      "1199/1199 [==============================] - 337s 281ms/step - loss: 15.8628 - accuracy: 0.0804 - val_loss: 77.5561 - val_accuracy: 0.0038\n",
      "Epoch 6/10\n",
      "1199/1199 [==============================] - 326s 272ms/step - loss: 22.6344 - accuracy: 0.0805 - val_loss: 127.7631 - val_accuracy: 0.0055\n",
      "Epoch 7/10\n",
      "1199/1199 [==============================] - 333s 278ms/step - loss: 54.1164 - accuracy: 0.0737 - val_loss: 2457.7593 - val_accuracy: 0.0063\n",
      "Epoch 8/10\n",
      "1199/1199 [==============================] - 341s 285ms/step - loss: 199.0830 - accuracy: 0.0634 - val_loss: 704.6152 - val_accuracy: 0.0025\n",
      "Epoch 9/10\n",
      "1199/1199 [==============================] - 337s 281ms/step - loss: 691.6677 - accuracy: 0.0614 - val_loss: 5400.2627 - val_accuracy: 0.0046\n",
      "Epoch 10/10\n",
      "1199/1199 [==============================] - 338s 282ms/step - loss: 2643.1374 - accuracy: 0.0605 - val_loss: 37191.5547 - val_accuracy: 7.0796e-05\n"
     ]
    },
    {
     "data": {
      "text/plain": [
       "<keras.callbacks.callbacks.History at 0x1dcbb9494a8>"
      ]
     },
     "execution_count": 76,
     "metadata": {},
     "output_type": "execute_result"
    }
   ],
   "source": [
    "model.fit_generator(generator=train_generator,\n",
    "                    steps_per_epoch=STEP_SIZE_TRAIN,\n",
    "                    validation_data=valid_generator,\n",
    "                    validation_steps=STEP_SIZE_VALID,\n",
    "                    epochs=10\n",
    ")"
   ]
  },
  {
   "cell_type": "code",
   "execution_count": 78,
   "metadata": {},
   "outputs": [
    {
     "data": {
      "text/html": [
       "<div>\n",
       "<style scoped>\n",
       "    .dataframe tbody tr th:only-of-type {\n",
       "        vertical-align: middle;\n",
       "    }\n",
       "\n",
       "    .dataframe tbody tr th {\n",
       "        vertical-align: top;\n",
       "    }\n",
       "\n",
       "    .dataframe thead th {\n",
       "        text-align: right;\n",
       "    }\n",
       "</style>\n",
       "<table border=\"1\" class=\"dataframe\">\n",
       "  <thead>\n",
       "    <tr style=\"text-align: right;\">\n",
       "      <th></th>\n",
       "      <th>image</th>\n",
       "    </tr>\n",
       "  </thead>\n",
       "  <tbody>\n",
       "    <tr>\n",
       "      <th>0</th>\n",
       "      <td>ROCO_CLEF_TEST_00001.jpg</td>\n",
       "    </tr>\n",
       "    <tr>\n",
       "      <th>1</th>\n",
       "      <td>ROCO_CLEF_TEST_00002.jpg</td>\n",
       "    </tr>\n",
       "    <tr>\n",
       "      <th>2</th>\n",
       "      <td>ROCO_CLEF_TEST_00003.jpg</td>\n",
       "    </tr>\n",
       "    <tr>\n",
       "      <th>3</th>\n",
       "      <td>ROCO_CLEF_TEST_00004.jpg</td>\n",
       "    </tr>\n",
       "    <tr>\n",
       "      <th>4</th>\n",
       "      <td>ROCO_CLEF_TEST_00005.jpg</td>\n",
       "    </tr>\n",
       "  </tbody>\n",
       "</table>\n",
       "</div>"
      ],
      "text/plain": [
       "                      image\n",
       "0  ROCO_CLEF_TEST_00001.jpg\n",
       "1  ROCO_CLEF_TEST_00002.jpg\n",
       "2  ROCO_CLEF_TEST_00003.jpg\n",
       "3  ROCO_CLEF_TEST_00004.jpg\n",
       "4  ROCO_CLEF_TEST_00005.jpg"
      ]
     },
     "execution_count": 78,
     "metadata": {},
     "output_type": "execute_result"
    }
   ],
   "source": [
    "dft = pd.read_excel('Desktop/test1.xlsx',header=None) #an excel file with the test filenames\n",
    "dft = dft.rename(columns={0: 'image'})\n",
    "dft.head(5)"
   ]
  },
  {
   "cell_type": "code",
   "execution_count": 79,
   "metadata": {},
   "outputs": [
    {
     "name": "stdout",
     "output_type": "stream",
     "text": [
      "Found 10000 validated image filenames.\n"
     ]
    }
   ],
   "source": [
    "test_datagen=ImageDataGenerator(rescale=1./255.)\n",
    "\n",
    "\n",
    "test_generator=test_datagen.flow_from_dataframe(\n",
    "dataframe=dft,\n",
    "directory=test_data_paths,\n",
    "x_col=\"image\",\n",
    "y_col=None,\n",
    "batch_size=32,\n",
    "seed=42,\n",
    "shuffle=False,\n",
    "class_mode=None,\n",
    "target_size=(32,32))"
   ]
  },
  {
   "cell_type": "code",
   "execution_count": 131,
   "metadata": {},
   "outputs": [
    {
     "data": {
      "text/plain": [
       "[59971.6953125, 0.00010016025771619752]"
      ]
     },
     "execution_count": 131,
     "metadata": {},
     "output_type": "execute_result"
    }
   ],
   "source": [
    "STEP_SIZE_TEST=test_generator.n//test_generator.batch_size\n",
    "model.evaluate_generator(generator=valid_generator,\n",
    "steps=STEP_SIZE_TEST) #accuracy score"
   ]
  },
  {
   "cell_type": "code",
   "execution_count": 82,
   "metadata": {},
   "outputs": [
    {
     "name": "stdout",
     "output_type": "stream",
     "text": [
      "312/312 [==============================] - 66s 211ms/step\n"
     ]
    }
   ],
   "source": [
    "test_generator.reset()\n",
    "pred=model.predict_generator(test_generator,\n",
    "steps=STEP_SIZE_TEST,\n",
    "verbose=1)"
   ]
  },
  {
   "cell_type": "code",
   "execution_count": 83,
   "metadata": {},
   "outputs": [],
   "source": [
    "predicted_class_indices=np.argmax(pred,axis=1)"
   ]
  },
  {
   "cell_type": "code",
   "execution_count": 91,
   "metadata": {},
   "outputs": [
    {
     "data": {
      "text/plain": [
       "array([4840, 4840, 4840, ..., 2574, 2294, 2574], dtype=int64)"
      ]
     },
     "execution_count": 91,
     "metadata": {},
     "output_type": "execute_result"
    }
   ],
   "source": [
    "predicted_class_indices"
   ]
  },
  {
   "cell_type": "code",
   "execution_count": 85,
   "metadata": {},
   "outputs": [],
   "source": [
    "labels = (train_generator.class_indices)\n",
    "labels = dict((v,k) for k,v in labels.items())\n",
    "predictions = [labels[k] for k in predicted_class_indices]"
   ]
  },
  {
   "cell_type": "code",
   "execution_count": 89,
   "metadata": {},
   "outputs": [
    {
     "data": {
      "text/plain": [
       "10000"
      ]
     },
     "execution_count": 89,
     "metadata": {},
     "output_type": "execute_result"
    }
   ],
   "source": [
    "len(test_generator.filenames)"
   ]
  },
  {
   "cell_type": "code",
   "execution_count": 109,
   "metadata": {},
   "outputs": [],
   "source": [
    "filenames=test_generator.filenames\n",
    "results=pd.DataFrame({\"Filename\":filenames,\n",
    "                      \"Predictions\":predictions})\n",
    "results.to_csv(\"results.csv\",index=False)"
   ]
  },
  {
   "cell_type": "code",
   "execution_count": 103,
   "metadata": {},
   "outputs": [
    {
     "data": {
      "image/png": "[encoded data removed]",
      "text/plain": [
       "<Figure size 1440x1440 with 5 Axes>"
      ]
     },
     "metadata": {
      "needs_background": "light"
     },
     "output_type": "display_data"
    }
   ],
   "source": [
    "#plotting some images\n",
    "\n",
    "def plot_images(images_arr):\n",
    "    fig, axes = plt.subplots(1, 5, figsize=(20,20))\n",
    "    axes = axes.flatten()\n",
    "    for img, ax in zip( images_arr, axes):\n",
    "        ax.imshow(img)\n",
    "        ax.axis('off')\n",
    "\n",
    "sample_training_images, _ = next(train_generator)\n",
    "plot_images(sample_training_images[:5])"
   ]
  },
  {
   "cell_type": "code",
   "execution_count": 114,
   "metadata": {},
   "outputs": [
    {
     "data": {
      "text/plain": [
       "10000"
      ]
     },
     "execution_count": 114,
     "metadata": {},
     "output_type": "execute_result"
    }
   ],
   "source": [
    "len(predictions)"
   ]
  },
  {
   "cell_type": "code",
   "execution_count": 127,
   "metadata": {},
   "outputs": [
    {
     "data": {
      "text/plain": [
       "14157"
      ]
     },
     "execution_count": 127,
     "metadata": {},
     "output_type": "execute_result"
    }
   ],
   "source": [
    "len(valid_generator.classes)"
   ]
  },
  {
   "cell_type": "code",
   "execution_count": 147,
   "metadata": {},
   "outputs": [],
   "source": [
    "pred=model.predict_generator(generator=valid_generator,\n",
    "steps=STEP_SIZE_TEST) "
   ]
  },
  {
   "cell_type": "code",
   "execution_count": 149,
   "metadata": {},
   "outputs": [
    {
     "data": {
      "text/plain": [
       "array([[0.00014628, 0.00014594, 0.0001463 , ..., 0.00015908, 0.00015952,\n",
       "        0.00014631],\n",
       "       [0.        , 0.        , 0.        , ..., 0.        , 0.        ,\n",
       "        0.        ],\n",
       "       [0.00014628, 0.00014594, 0.0001463 , ..., 0.00015908, 0.00015952,\n",
       "        0.00014631],\n",
       "       ...,\n",
       "       [0.00014628, 0.00014594, 0.0001463 , ..., 0.00015908, 0.00015952,\n",
       "        0.00014631],\n",
       "       [0.00014628, 0.00014594, 0.0001463 , ..., 0.00015908, 0.00015952,\n",
       "        0.00014631],\n",
       "       [0.        , 0.        , 0.        , ..., 0.        , 0.        ,\n",
       "        0.        ]], dtype=float32)"
      ]
     },
     "execution_count": 149,
     "metadata": {},
     "output_type": "execute_result"
    }
   ],
   "source": [
    "pred"
   ]
  },
  {
   "cell_type": "code",
   "execution_count": null,
   "metadata": {},
   "outputs": [],
   "source": []
  }
 ],
 "metadata": {
  "kernelspec": {
   "display_name": "Python 3",
   "language": "python",
   "name": "python3"
  },
  "language_info": {
   "codemirror_mode": {
    "name": "ipython",
    "version": 3
   },
   "file_extension": ".py",
   "mimetype": "text/x-python",
   "name": "python",
   "nbconvert_exporter": "python",
   "pygments_lexer": "ipython3",
   "version": "3.7.3"
  }
 },
 "nbformat": 4,
 "nbformat_minor": 4
}
